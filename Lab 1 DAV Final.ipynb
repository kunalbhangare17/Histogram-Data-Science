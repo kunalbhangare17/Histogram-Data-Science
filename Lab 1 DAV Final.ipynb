{
 "cells": [
  {
   "cell_type": "code",
   "execution_count": 4,
   "metadata": {},
   "outputs": [],
   "source": [
    "# Importing Libraries\n",
    "\n",
    "import pandas as pd\n",
    "import numpy as np\n",
    "import os\n",
    "from matplotlib import pyplot as plt\n",
    "%matplotlib inline"
   ]
  },
  {
   "cell_type": "code",
   "execution_count": 6,
   "metadata": {},
   "outputs": [
    {
     "data": {
      "text/html": [
       "<div>\n",
       "<style scoped>\n",
       "    .dataframe tbody tr th:only-of-type {\n",
       "        vertical-align: middle;\n",
       "    }\n",
       "\n",
       "    .dataframe tbody tr th {\n",
       "        vertical-align: top;\n",
       "    }\n",
       "\n",
       "    .dataframe thead th {\n",
       "        text-align: right;\n",
       "    }\n",
       "</style>\n",
       "<table border=\"1\" class=\"dataframe\">\n",
       "  <thead>\n",
       "    <tr style=\"text-align: right;\">\n",
       "      <th></th>\n",
       "      <th>STATION</th>\n",
       "      <th>STATION_NAME</th>\n",
       "      <th>DATE</th>\n",
       "      <th>TMAX</th>\n",
       "      <th>TMIN</th>\n",
       "    </tr>\n",
       "  </thead>\n",
       "  <tbody>\n",
       "    <tr>\n",
       "      <th>0</th>\n",
       "      <td>GHCND:ASN00023013</td>\n",
       "      <td>PARAFIELD AIRPORT AS</td>\n",
       "      <td>20140101</td>\n",
       "      <td>339</td>\n",
       "      <td>239</td>\n",
       "    </tr>\n",
       "    <tr>\n",
       "      <th>1</th>\n",
       "      <td>GHCND:ASN00023013</td>\n",
       "      <td>PARAFIELD AIRPORT AS</td>\n",
       "      <td>20140102</td>\n",
       "      <td>228</td>\n",
       "      <td>167</td>\n",
       "    </tr>\n",
       "    <tr>\n",
       "      <th>2</th>\n",
       "      <td>GHCND:ASN00023013</td>\n",
       "      <td>PARAFIELD AIRPORT AS</td>\n",
       "      <td>20140103</td>\n",
       "      <td>245</td>\n",
       "      <td>154</td>\n",
       "    </tr>\n",
       "    <tr>\n",
       "      <th>3</th>\n",
       "      <td>GHCND:ASN00023013</td>\n",
       "      <td>PARAFIELD AIRPORT AS</td>\n",
       "      <td>20140104</td>\n",
       "      <td>239</td>\n",
       "      <td>144</td>\n",
       "    </tr>\n",
       "    <tr>\n",
       "      <th>4</th>\n",
       "      <td>GHCND:ASN00023013</td>\n",
       "      <td>PARAFIELD AIRPORT AS</td>\n",
       "      <td>20140105</td>\n",
       "      <td>232</td>\n",
       "      <td>142</td>\n",
       "    </tr>\n",
       "  </tbody>\n",
       "</table>\n",
       "</div>"
      ],
      "text/plain": [
       "             STATION          STATION_NAME      DATE  TMAX  TMIN\n",
       "0  GHCND:ASN00023013  PARAFIELD AIRPORT AS  20140101   339   239\n",
       "1  GHCND:ASN00023013  PARAFIELD AIRPORT AS  20140102   228   167\n",
       "2  GHCND:ASN00023013  PARAFIELD AIRPORT AS  20140103   245   154\n",
       "3  GHCND:ASN00023013  PARAFIELD AIRPORT AS  20140104   239   144\n",
       "4  GHCND:ASN00023013  PARAFIELD AIRPORT AS  20140105   232   142"
      ]
     },
     "execution_count": 6,
     "metadata": {},
     "output_type": "execute_result"
    }
   ],
   "source": [
    "# Importing .csv file and printing it\n",
    "\n",
    "var = pd.read_csv(\"Temperature_2020.csv\")\n",
    "var.head()"
   ]
  },
  {
   "cell_type": "code",
   "execution_count": 8,
   "metadata": {},
   "outputs": [
    {
     "name": "stdout",
     "output_type": "stream",
     "text": [
      "-9999\n",
      "464\n",
      "-9999\n",
      "315\n"
     ]
    }
   ],
   "source": [
    "# Finding Minimum and Maximum value\n",
    "\n",
    "print(min(var.TMAX))\n",
    "print(max(var.TMAX))\n",
    "print(min(var.TMIN))\n",
    "print(max(var.TMIN))"
   ]
  },
  {
   "cell_type": "code",
   "execution_count": 12,
   "metadata": {},
   "outputs": [
    {
     "name": "stdout",
     "output_type": "stream",
     "text": [
      "The Mean is: \n",
      "164.8989100235093\n",
      "The Mode is: \n",
      "0    231\n",
      "dtype: int64\n",
      "The Median is:\n",
      "223.0\n"
     ]
    }
   ],
   "source": [
    "# Finding Mean, Mode and Median of TMAX\n",
    "\n",
    "print(\"The Mean is: \")\n",
    "print(var['TMAX'].mean())\n",
    "print(\"The Mode is: \")\n",
    "print(var['TMAX'].mode())\n",
    "print(\"The Median is:\")\n",
    "print(var['TMAX'].median())"
   ]
  },
  {
   "cell_type": "code",
   "execution_count": 13,
   "metadata": {},
   "outputs": [
    {
     "name": "stdout",
     "output_type": "stream",
     "text": [
      "The Mean is: \n",
      "55.9544774524471\n",
      "The Mode is: \n",
      "0    135\n",
      "dtype: int64\n",
      "The Median is:\n",
      "113.0\n"
     ]
    }
   ],
   "source": [
    "# Finding Mean, Mode and Median of TMIN \n",
    "\n",
    "print(\"The Mean is: \")\n",
    "print(var['TMIN'].mean())\n",
    "print(\"The Mode is: \")\n",
    "print(var['TMIN'].mode())\n",
    "print(\"The Median is:\")\n",
    "print(var['TMIN'].median())"
   ]
  },
  {
   "cell_type": "code",
   "execution_count": 15,
   "metadata": {},
   "outputs": [
    {
     "data": {
      "text/plain": [
       "<matplotlib.legend.Legend at 0x7fbbfcbfa4c0>"
      ]
     },
     "execution_count": 15,
     "metadata": {},
     "output_type": "execute_result"
    },
    {
     "data": {
      "image/png": "[encoded data removed]",
      "text/plain": [
       "<Figure size 432x288 with 1 Axes>"
      ]
     },
     "metadata": {
      "needs_background": "light"
     },
     "output_type": "display_data"
    }
   ],
   "source": [
    "# Ploting Histogram wiht bins 5 and bin width 0.95\n",
    "\n",
    "plt.xlabel('Temperature Range')\n",
    "plt.ylabel('Total no of Stations')\n",
    "plt.title('Temperature Analysis')\n",
    "plt.hist([var.TMAX, var.TMIN], bins = 5, rwidth = 0.95, color = ['green', 'orange'], label = ['TMAX', 'TMIN'])\n",
    "plt.legend()"
   ]
  },
  {
   "cell_type": "code",
   "execution_count": 16,
   "metadata": {},
   "outputs": [
    {
     "data": {
      "text/plain": [
       "<matplotlib.legend.Legend at 0x7fbbfcc72430>"
      ]
     },
     "execution_count": 16,
     "metadata": {},
     "output_type": "execute_result"
    },
    {
     "data": {
      "image/png": "[encoded data removed]",
      "text/plain": [
       "<Figure size 432x288 with 1 Axes>"
      ]
     },
     "metadata": {
      "needs_background": "light"
     },
     "output_type": "display_data"
    }
   ],
   "source": [
    "# Ploting Histogram with bins 3 and bin width 0.2\n",
    "\n",
    "plt.xlabel('Temperature Range')\n",
    "plt.ylabel('Total no of Stations')\n",
    "plt.title('Temperature Analysis')\n",
    "plt.hist([var.TMAX, var.TMIN], bins = 3, rwidth = 0.2, color = ['red', 'blue'], label = ['TMAX', 'TMIN'])\n",
    "plt.legend()"
   ]
  },
  {
   "cell_type": "code",
   "execution_count": 17,
   "metadata": {},
   "outputs": [
    {
     "name": "stderr",
     "output_type": "stream",
     "text": [
      "/opt/anaconda3/lib/python3.8/site-packages/numpy/lib/histograms.py:908: RuntimeWarning: invalid value encountered in true_divide\n",
      "  return n/db/n.sum(), bin_edges\n"
     ]
    },
    {
     "data": {
      "image/png": "[encoded data removed]",
      "text/plain": [
       "<Figure size 432x288 with 1 Axes>"
      ]
     },
     "metadata": {
      "needs_background": "light"
     },
     "output_type": "display_data"
    }
   ],
   "source": [
    "# Ploting PDF function for TMAX\n",
    "\n",
    "bins = np.linspace(-5,5,15)\n",
    "histogram, bins = np.histogram(var.TMAX, bins=bins, density=True)\n",
    "\n",
    "bin_centers = 0.5*(bins[1:] + bins[:-1])\n",
    "\n",
    "# Compute the PDF on the bin centers from scipy distribution object\n",
    "from scipy import stats\n",
    "pdf = stats.norm.pdf(bin_centers)\n",
    "\n",
    "from matplotlib import pyplot as plt\n",
    "plt.figure(figsize=(6, 4))\n",
    "plt.plot(bin_centers, histogram, label=\"Histogram of samples\")\n",
    "plt.plot(bin_centers, pdf, label=\"PDF\")\n",
    "plt.title('PDF of TMAX')\n",
    "plt.legend()\n",
    "plt.show()"
   ]
  },
  {
   "cell_type": "code",
   "execution_count": 18,
   "metadata": {},
   "outputs": [
    {
     "data": {
      "image/png": "[encoded data removed]",
      "text/plain": [
       "<Figure size 432x288 with 1 Axes>"
      ]
     },
     "metadata": {
      "needs_background": "light"
     },
     "output_type": "display_data"
    }
   ],
   "source": [
    "# Ploting PDF function for TMIN\n",
    "\n",
    "bins = np.linspace(-5, 5, 15)\n",
    "histogram, bins = np.histogram(var.TMIN, bins=bins, density=True)\n",
    "\n",
    "bin_centers = 0.5*(bins[1:] + bins[:-1])\n",
    "\n",
    "# Compute the PDF on the bin centers from scipy distribution object\n",
    "from scipy import stats\n",
    "pdf = stats.norm.pdf(bin_centers)\n",
    "\n",
    "from matplotlib import pyplot as plt\n",
    "plt.figure(figsize=(6, 4))\n",
    "plt.plot(bin_centers, histogram, label=\"Histogram of samples\")\n",
    "plt.plot(bin_centers, pdf, label=\"PDF\")\n",
    "plt.title('PDF of TMIN')\n",
    "plt.legend()\n",
    "plt.show()"
   ]
  },
  {
   "cell_type": "code",
   "execution_count": null,
   "metadata": {},
   "outputs": [],
   "source": []
  }
 ],
 "metadata": {
  "kernelspec": {
   "display_name": "Python 3",
   "language": "python",
   "name": "python3"
  },
  "language_info": {
   "codemirror_mode": {
    "name": "ipython",
    "version": 3
   },
   "file_extension": ".py",
   "mimetype": "text/x-python",
   "name": "python",
   "nbconvert_exporter": "python",
   "pygments_lexer": "ipython3",
   "version": "3.8.3"
  }
 },
 "nbformat": 4,
 "nbformat_minor": 4
}
